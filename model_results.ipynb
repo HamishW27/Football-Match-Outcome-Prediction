{
 "cells": [
  {
   "cell_type": "code",
   "execution_count": null,
   "metadata": {},
   "outputs": [],
   "source": [
    "import joblib\n",
    "model = joblib.load('model.joblib')"
   ]
  },
  {
   "cell_type": "markdown",
   "metadata": {},
   "source": [
    "After the model training, outlined in the previous notebook, the above best model used a RandomForestClassifier to attempt to classify the data. The model achieved an accuracy of 53% on the testing data and 47.8% on the data for the 2022 season."
   ]
  },
  {
   "cell_type": "code",
   "execution_count": null,
   "metadata": {},
   "outputs": [],
   "source": [
    "import pandas as pd\n",
    "\n",
    "svm_cols = ['Season', 'Teams_in_League', 'Home_Team_Goals_For_This_Far',\n",
    "            'Home_Team_Goals_Against_This_Far', 'Away_Team_Goals_For_This_Far',\n",
    "            'Away_Team_Goals_Against_This_Far', 'Home_Team_Points',\n",
    "            'Away_Team_Points', 'Away_Team_Winning_Streak',\n",
    "            'Home_Team_Unbeaten_Streak', 'Away_Team_Unbeaten_Streak', 'Elo_home',\n",
    "            'Elo_away', 'Home_Wins_This_Far', 'Home_Draws_This_Far',\n",
    "            'Home_Losses_This_Far', 'Away_Draws_This_Far',\n",
    "            'Home_Wins_This_Far_at_Home', 'Home_Draws_This_Far_at_Home',\n",
    "            'Home_Losses_This_Far_at_Home', 'Home_Draws_This_Far_Away',\n",
    "            'Away_Wins_This_Far_at_Home', 'Away_Draws_This_Far_at_Home',\n",
    "            'Away_Losses_This_Far_at_Home', 'Away_Wins_This_Far_Away',\n",
    "            'Away_Draws_This_Far_Away', 'Capacity', 'Home_Yellow',\n",
    "            'Away_Team_Yellows_This_Far', 'Away_Red', 'Home_Points_Per_Game',\n",
    "            'Home_Goals_Per_Game', 'Home_Goals_Against_Per_Game',\n",
    "            'Away_Points_Per_Game', 'Away_Goals_Per_Game',\n",
    "            'Away_Goals_Against_Per_Game', 'Away_Cards_Per_Game', 'Pitch_Match',\n",
    "            'League']\n",
    "\n",
    "def read_2022_data():\n",
    "    test_data = pd.read_csv('cleaned_results.csv')\n",
    "    test_data = test_data[svm_cols]\n",
    "    test_data.League = test_data.League.astype('category').cat.codes\n",
    "    return test_data"
   ]
  }
 ],
 "metadata": {
  "language_info": {
   "name": "python"
  },
  "orig_nbformat": 4
 },
 "nbformat": 4,
 "nbformat_minor": 2
}
