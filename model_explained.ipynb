{
 "cells": [
  {
   "cell_type": "markdown",
   "metadata": {},
   "source": [
    "Using the available csv files and by scraping data from the website besoccer.com, I have compiled a dataset of 161,112 football matches in 14 leagues with 55 columns of relevant information about them."
   ]
  },
  {
   "cell_type": "code",
   "execution_count": 1,
   "metadata": {},
   "outputs": [
    {
     "data": {
      "text/plain": [
       "Index(['Result', 'Season', 'Round', 'Teams_in_League',\n",
       "       'Home_Team_Goals_For_This_Far', 'Home_Team_Goals_Against_This_Far',\n",
       "       'Away_Team_Goals_For_This_Far', 'Away_Team_Goals_Against_This_Far',\n",
       "       'Home_Team_Points', 'Away_Team_Points', 'Home_Team_Losing_Streak',\n",
       "       'Away_Team_Losing_Streak', 'Home_Team_Winning_Streak',\n",
       "       'Away_Team_Winning_Streak', 'Home_Team_Unbeaten_Streak',\n",
       "       'Away_Team_Unbeaten_Streak', 'Elo_home', 'Elo_away',\n",
       "       'Home_Wins_This_Far', 'Home_Draws_This_Far', 'Home_Losses_This_Far',\n",
       "       'Away_Wins_This_Far', 'Away_Draws_This_Far', 'Away_Losses_This_Far',\n",
       "       'Home_Wins_This_Far_at_Home', 'Home_Draws_This_Far_at_Home',\n",
       "       'Home_Losses_This_Far_at_Home', 'Home_Wins_This_Far_Away',\n",
       "       'Home_Draws_This_Far_Away', 'Home_Losses_This_Far_Away',\n",
       "       'Away_Wins_This_Far_at_Home', 'Away_Draws_This_Far_at_Home',\n",
       "       'Away_Losses_This_Far_at_Home', 'Away_Wins_This_Far_Away',\n",
       "       'Away_Draws_This_Far_Away', 'Away_Losses_This_Far_Away', 'Capacity',\n",
       "       'Home_Yellow', 'Home_Team_Reds_This_Far', 'Home_Team_Yellows_This_Far',\n",
       "       'Away_Team_Reds_This_Far', 'Away_Team_Yellows_This_Far', 'Away_Red',\n",
       "       'Home_Points_Per_Game', 'Home_Goals_Per_Game',\n",
       "       'Home_Goals_Against_Per_Game', 'Home_Cards_Per_Game',\n",
       "       'Away_Points_Per_Game', 'Away_Goals_Per_Game',\n",
       "       'Away_Goals_Against_Per_Game', 'Away_Cards_Per_Game', 'Date_New',\n",
       "       'Link', 'Pitch_Match', 'League'],\n",
       "      dtype='object')"
      ]
     },
     "execution_count": 1,
     "metadata": {},
     "output_type": "execute_result"
    }
   ],
   "source": [
    "import pandas as pd\n",
    "data = pd.read_csv('cleaned_dataset.csv')\n",
    "data.columns"
   ]
  },
  {
   "cell_type": "markdown",
   "metadata": {},
   "source": [
    "These contain information useful to a machine learning model for predicting future results."
   ]
  }
 ],
 "metadata": {
  "kernelspec": {
   "display_name": "Python 3.9.13 ('base')",
   "language": "python",
   "name": "python3"
  },
  "language_info": {
   "codemirror_mode": {
    "name": "ipython",
    "version": 3
   },
   "file_extension": ".py",
   "mimetype": "text/x-python",
   "name": "python",
   "nbconvert_exporter": "python",
   "pygments_lexer": "ipython3",
   "version": "3.9.13"
  },
  "orig_nbformat": 4,
  "vscode": {
   "interpreter": {
    "hash": "3d597f4c481aa0f25dceb95d2a0067e73c0966dcbd003d741d821a7208527ecf"
   }
  }
 },
 "nbformat": 4,
 "nbformat_minor": 2
}
